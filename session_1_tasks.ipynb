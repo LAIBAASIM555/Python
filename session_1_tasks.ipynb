{
  "nbformat": 4,
  "nbformat_minor": 0,
  "metadata": {
    "colab": {
      "provenance": [],
      "toc_visible": true,
      "include_colab_link": true
    },
    "kernelspec": {
      "name": "python3",
      "display_name": "Python 3"
    },
    "language_info": {
      "name": "python"
    }
  },
  "cells": [
    {
      "cell_type": "markdown",
      "metadata": {
        "id": "view-in-github",
        "colab_type": "text"
      },
      "source": [
        "<a href=\"https://colab.research.google.com/github/LAIBAASIM555/Python_Session/blob/main/session_1_tasks.ipynb\" target=\"_parent\"><img src=\"https://colab.research.google.com/assets/colab-badge.svg\" alt=\"Open In Colab\"/></a>"
      ]
    },
    {
      "cell_type": "markdown",
      "source": [
        "# Task : Session 1\n",
        "Solve these questions own your own and try to test yourself what you have learned in the session.\n",
        "\n",
        "Happy Learning!"
      ],
      "metadata": {
        "id": "A05OG15VqOPF"
      }
    },
    {
      "cell_type": "markdown",
      "source": [
        "### Q1 :- Print the given strings as per stated format.\n",
        "\n",
        "**Given strings**:\n",
        "```\n",
        "\"Data\" \"Science\" \"Mentorship\" \"Program\"\n",
        "\"By\" \"CampusX\"\n",
        "```\n",
        "**Output**:\n",
        "```\n",
        "Data-Science-Mentorship-Program-started-By-CampusX\n",
        "```\n",
        "\n",
        "Concept- [Seperator and End]"
      ],
      "metadata": {
        "id": "2doIXf8bqe9_"
      }
    },
    {
      "cell_type": "code",
      "source": [
        "# Write your code here\n",
        "print(\"Data\",\"Science\",\"Mentorship\",\"Program\",sep='-',end='-started-')\n",
        "print(\"By\",\"CampusX\",sep='-')"
      ],
      "metadata": {
        "id": "-em6d3KErDtp",
        "outputId": "63dce20d-3374-4861-a7af-a9766b7d3716",
        "colab": {
          "base_uri": "https://localhost:8080/"
        }
      },
      "execution_count": 2,
      "outputs": [
        {
          "output_type": "stream",
          "name": "stdout",
          "text": [
            "Data-Science-Mentorship-Program-started-By-CampusX\n"
          ]
        }
      ]
    },
    {
      "cell_type": "markdown",
      "source": [
        "### Q2:- Write a program that will convert celsius value to fahrenheit."
      ],
      "metadata": {
        "id": "1KUpN7ZTrC3_"
      }
    },
    {
      "cell_type": "code",
      "source": [
        "# Write your code here\n",
        "celsius = float(input(\"Enter temperature in celsius: \"))\n",
        "fahrenheit = (celsius * 9/5) + 32\n",
        "print('%.2f Celsius is: %0.2f Fahrenheit' %(celsius, fahrenheit))"
      ],
      "metadata": {
        "id": "yxKYhYQiqWfj",
        "outputId": "53b0142e-397c-4d0c-ba26-f3d0b911f776",
        "colab": {
          "base_uri": "https://localhost:8080/"
        }
      },
      "execution_count": 3,
      "outputs": [
        {
          "output_type": "stream",
          "name": "stdout",
          "text": [
            "Enter temperature in celsius: 239\n",
            "239.00 Celsius is: 462.20 Fahrenheit\n"
          ]
        }
      ]
    },
    {
      "cell_type": "markdown",
      "source": [
        "### Q3:- Take 2 numbers as input from the user.Write a program to swap the numbers without using any special python syntax."
      ],
      "metadata": {
        "id": "RLrOBBJurLB2"
      }
    },
    {
      "cell_type": "code",
      "source": [
        "# Write your code here\n",
        "a,b = 2,3\n",
        "print(a,b)\n",
        "a,b = b,a\n",
        "print(a,b)"
      ],
      "metadata": {
        "id": "yPn7if0TrJ4F",
        "outputId": "146162ee-2bc6-46d8-8580-d0168488a180",
        "colab": {
          "base_uri": "https://localhost:8080/"
        }
      },
      "execution_count": 4,
      "outputs": [
        {
          "output_type": "stream",
          "name": "stdout",
          "text": [
            "2 3\n",
            "3 2\n"
          ]
        }
      ]
    },
    {
      "cell_type": "markdown",
      "source": [
        "### Q4:- Write a program to find the euclidean distance between two coordinates.Take both the coordinates from the user as input."
      ],
      "metadata": {
        "id": "waLCP1bjr7ML"
      }
    },
    {
      "cell_type": "code",
      "source": [
        "# Write your code here\n",
        "import math\n",
        "\n",
        "# Get coordinates from the user\n",
        "x1 = float(input(\"Enter x-coordinate of the first point: \"))\n",
        "y1 = float(input(\"Enter y-coordinate of the first point: \"))\n",
        "x2 = float(input(\"Enter x-coordinate of the second point: \"))\n",
        "y2 = float(input(\"Enter y-coordinate of the second point: \"))\n",
        "\n",
        "# Calculate the distance\n",
        "distance = math.sqrt((x2 - x1)**2 + (y2 - y1)**2)\n",
        "\n",
        "# Print the result\n",
        "print(\"The Euclidean distance between the two points is:\", distance)\n"
      ],
      "metadata": {
        "id": "Pl1Sv-xnrxnH",
        "outputId": "3ed5bfe8-76c6-42a3-e643-b6265392b59e",
        "colab": {
          "base_uri": "https://localhost:8080/"
        }
      },
      "execution_count": 5,
      "outputs": [
        {
          "output_type": "stream",
          "name": "stdout",
          "text": [
            "Enter x-coordinate of the first point: 3\n",
            "Enter y-coordinate of the first point: 4\n",
            "Enter x-coordinate of the second point: 7\n",
            "Enter y-coordinate of the second point: 9\n",
            "The Euclidean distance between the two points is: 6.4031242374328485\n"
          ]
        }
      ]
    },
    {
      "cell_type": "markdown",
      "source": [
        "### Q5:- Write a program to find the simple interest when the value of principle,rate of interest and time period is provided by the user.\n"
      ],
      "metadata": {
        "id": "VLrhg-FRsHjR"
      }
    },
    {
      "cell_type": "code",
      "source": [
        "# Write your code here\n",
        "# Get input from the user\n",
        "principal = float(input(\"Enter the principal amount: \"))\n",
        "rate = float(input(\"Enter the rate of interest (in percentage): \"))\n",
        "time = float(input(\"Enter the time period (in years): \"))\n",
        "\n",
        "# Calculate simple interest\n",
        "simple_interest = (principal * rate * time) / 100\n",
        "\n",
        "# Print the result\n",
        "print(\"The simple interest is:\", simple_interest)\n"
      ],
      "metadata": {
        "id": "s40DlReZsTmY",
        "outputId": "33049711-d870-4688-ee7e-3124b25d4f8e",
        "colab": {
          "base_uri": "https://localhost:8080/"
        }
      },
      "execution_count": 7,
      "outputs": [
        {
          "output_type": "stream",
          "name": "stdout",
          "text": [
            "Enter the principal amount: 2300\n",
            "Enter the rate of interest (in percentage): 5600\n",
            "Enter the time period (in years): 12\n",
            "The simple interest is: 1545600.0\n"
          ]
        }
      ]
    },
    {
      "cell_type": "markdown",
      "source": [
        "### Q6:- Write a program that will tell the number of dogs and chicken are there when the user will provide the value of total heads and legs.\n",
        "\n",
        "For example:\n",
        "Input:\n",
        "heads -> 4\n",
        "legs -> 12\n",
        "<br>\n",
        "Output:\n",
        "dogs -> 2\n",
        "chicken -> 2\n",
        "\n",
        "\n",
        "\n"
      ],
      "metadata": {
        "id": "LMy0BTUktYKa"
      }
    },
    {
      "cell_type": "code",
      "source": [
        "# Write your code here\n",
        "# Get input from the user\n",
        "heads = int(input(\"Enter the total number of heads: \"))\n",
        "legs = int(input(\"Enter the total number of legs: \"))\n",
        "\n",
        "# Calculate the number of dogs and chickens\n",
        "dogs = (legs - 2 * heads) / 2\n",
        "chickens = heads - dogs\n",
        "\n",
        "# Print the result\n",
        "print(\"dogs ->\", int(dogs))\n",
        "print(\"chicken ->\", int(chickens))\n"
      ],
      "metadata": {
        "id": "XSBvJoA4tXaG",
        "outputId": "b00bd57a-fd85-42b0-ae51-4c096d1e6fde",
        "colab": {
          "base_uri": "https://localhost:8080/"
        }
      },
      "execution_count": 9,
      "outputs": [
        {
          "output_type": "stream",
          "name": "stdout",
          "text": [
            "Enter the total number of heads: 7\n",
            "Enter the total number of legs: 56\n",
            "dogs -> 21\n",
            "chicken -> -14\n"
          ]
        }
      ]
    },
    {
      "cell_type": "markdown",
      "source": [
        "### Q7:- Write a program to find the sum of squares of first n natural numbers where n will be provided by the user."
      ],
      "metadata": {
        "id": "gJ7C5kZYt4BP"
      }
    },
    {
      "cell_type": "code",
      "source": [
        "# Write your code here\n",
        "n = int(input(\"Enter a number: \"))\n",
        "sum = 0\n",
        "for i in range(1,n+1):\n",
        "    sum += i*i\n",
        "print(sum)"
      ],
      "metadata": {
        "id": "_tHsmEHzt2nX",
        "outputId": "6a3a54fa-5525-4d14-9098-977865792032",
        "colab": {
          "base_uri": "https://localhost:8080/"
        }
      },
      "execution_count": 10,
      "outputs": [
        {
          "output_type": "stream",
          "name": "stdout",
          "text": [
            "Enter a number: 20\n",
            "2870\n"
          ]
        }
      ]
    },
    {
      "cell_type": "markdown",
      "source": [
        "### Q8:- Given the first 2 terms of an Arithmetic Series.Find the Nth term of the series. Assume all inputs are provided by the user."
      ],
      "metadata": {
        "id": "FHrMM7g-yG1h"
      }
    },
    {
      "cell_type": "code",
      "source": [
        "# Write your code here\n",
        "a = int(input())\n",
        "b = int(input())\n",
        "n = int(input())\n",
        "d = b-a\n",
        "nth_term = a + (n-1)*d\n",
        "print(nth_term)"
      ],
      "metadata": {
        "id": "go4_kmZmyVSx",
        "outputId": "617705d2-6266-439d-e5bd-25b218087ee1",
        "colab": {
          "base_uri": "https://localhost:8080/"
        }
      },
      "execution_count": 11,
      "outputs": [
        {
          "output_type": "stream",
          "name": "stdout",
          "text": [
            "23\n",
            "45\n",
            "78\n",
            "1717\n"
          ]
        }
      ]
    },
    {
      "cell_type": "markdown",
      "source": [
        "### Q9:- Given 2 fractions, find the sum of those 2 fractions.Take the numerator and denominator values of the fractions from the user."
      ],
      "metadata": {
        "id": "QgyRX_es1oum"
      }
    },
    {
      "cell_type": "code",
      "source": [
        "# Get input for the first fraction\n",
        "num1 = int(input(\"Enter the numerator of the first fraction: \"))\n",
        "den1 = int(input(\"Enter the denominator of the first fraction: \"))\n",
        "\n",
        "# Get input for the second fraction\n",
        "num2 = int(input(\"Enter the numerator of the second fraction: \"))\n",
        "den2 = int(input(\"Enter the denominator of the second fraction: \"))\n",
        "\n",
        "# Calculate the sum\n",
        "num_sum = num1 * den2 + num2 * den1\n",
        "den_sum = den1 * den2\n",
        "\n",
        "# Print the result\n",
        "print(\"The sum of the two fractions is:\", num_sum, \"/\", den_sum)"
      ],
      "metadata": {
        "id": "X05xqFS1yW16",
        "outputId": "422498db-77eb-45aa-9efb-dd655b7b1f2b",
        "colab": {
          "base_uri": "https://localhost:8080/"
        }
      },
      "execution_count": 13,
      "outputs": [
        {
          "output_type": "stream",
          "name": "stdout",
          "text": [
            "Enter the numerator of the first fraction: 34\n",
            "Enter the denominator of the first fraction: 12\n",
            "Enter the numerator of the second fraction: 67\n",
            "Enter the denominator of the second fraction: 90\n",
            "The sum of the two fractions is: 3864 / 1080\n"
          ]
        }
      ]
    },
    {
      "cell_type": "markdown",
      "source": [
        "### Q10:- Given the height, width and breadth of a milk tank, you have to find out how many glasses of milk can be obtained? Assume all the inputs are provided by the user.\n",
        "\n",
        "\n",
        "\n",
        "Input:<br>\n",
        "Dimensions of the milk tank<br>\n",
        "H = 20cm, L = 20cm, B = 20cm\n",
        "<br><br>\n",
        "Dimensions of the glass<br>\n",
        "h = 3cm, r = 1cm"
      ],
      "metadata": {
        "id": "eaql38ln13u7"
      }
    },
    {
      "cell_type": "code",
      "source": [
        "import math\n",
        "\n",
        "# Get dimensions of the milk tank\n",
        "tank_height = float(input(\"Enter the height of the milk tank (in cm): \"))\n",
        "tank_length = float(input(\"Enter the length of the milk tank (in cm): \"))\n",
        "tank_breadth = float(input(\"Enter the breadth of the milk tank (in cm): \"))\n",
        "\n",
        "# Get dimensions of the glass\n",
        "glass_height = float(input(\"Enter the height of the glass (in cm): \"))\n",
        "glass_radius = float(input(\"Enter the radius of the glass (in cm): \"))\n",
        "\n",
        "# Calculate the volume of the milk tank\n",
        "tank_volume = tank_height * tank_length * tank_breadth\n",
        "\n",
        "# Calculate the volume of the glass\n",
        "glass_volume = math.pi * glass_radius**2 * glass_height\n",
        "\n",
        "# Calculate the number of glasses\n",
        "num_glasses = int(tank_volume / glass_volume)\n",
        "\n",
        "# Print the result\n",
        "print(\"The number of glasses of milk that can be obtained is:\", num_glasses)"
      ],
      "metadata": {
        "id": "FePZqno74eWv",
        "outputId": "3ee73e25-2b25-4916-a5e1-56e6f7874468",
        "colab": {
          "base_uri": "https://localhost:8080/"
        }
      },
      "execution_count": 15,
      "outputs": [
        {
          "output_type": "stream",
          "name": "stdout",
          "text": [
            "Enter the height of the milk tank (in cm): 34\n",
            "Enter the length of the milk tank (in cm): 56\n",
            "Enter the breadth of the milk tank (in cm): 90\n",
            "Enter the height of the glass (in cm): 23\n",
            "Enter the radius of the glass (in cm): 67\n",
            "The number of glasses of milk that can be obtained is: 0\n"
          ]
        }
      ]
    },
    {
      "cell_type": "code",
      "source": [],
      "metadata": {
        "id": "9dUZiOiuX3br"
      },
      "execution_count": null,
      "outputs": []
    }
  ]
}